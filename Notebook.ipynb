{
 "cells": [
  {
   "cell_type": "markdown",
   "metadata": {},
   "source": [
    "# Python Environments in VS Code\n",
    "https://code.visualstudio.com/docs/python/environments\n",
    "\n",
    "Set-ExecutionPolicy -ExecutionPolicy RemoteSigned -Scope Process \\\n",
    ".\\.venv\\Scripts\\Activate.ps1\n",
    "\n",
    "# Environmental Varialbles\n",
    "Setup the environmental variables below. \\\n",
    "INFLUXDB3_AUTH_TOKEN=\"<>\" \\\n",
    "INFLUXDB_V2_URL=\"<>\" \\\n",
    "INFLUXDB_V2_ORG=\"<>\" \\\n",
    "INFLUXDB_V2_TOKEN=\"<>\"\n",
    "\n",
    "# Python Libraries \n",
    "python -m pip install --upgrade pip \\\n",
    "python -m pip install pandas[performance] \\\n",
    "python -m pip install influxdb3-python \\\n",
    "python -m pip install 'influxdb-client[ciso]'\n",
    "python -m pip install matplotlib \\\n",
    "python -m pip install bokeh \\\n",
    "python -m pip install seaborn \\\n",
    "python -m pip install scipy \\\n",
    "python -m pip install plotly \\\n",
    "python -m pip install nbformat\n",
    "\n",
    "### Windows\n",
    "You have to install Visual C++ Build Tools 2015 to build ciso8601 by pip. \\\n",
    "https://github.com/influxdata/influxdb-client-python"
   ]
  },
  {
   "cell_type": "markdown",
   "metadata": {},
   "source": [
    "# Python Code\n",
    "Using Python 3.13.4\n",
    "## Initialize an InfluxDB 3 client."
   ]
  },
  {
   "cell_type": "code",
   "execution_count": null,
   "metadata": {},
   "outputs": [],
   "source": [
    "import os\n",
    "import pandas as pd\n",
    "from influxdb_client_3 import InfluxDBClient3\n",
    "\n",
    "# InfluxDB3 Access Information\n",
    "DATABASE = \"FEATHER_WEATHER\"\n",
    "AUTH_TOKEN = os.getenv('INFLUXDB3_AUTH_TOKEN')\n",
    "# AUTH_TOKEN = \"<INFLUXDB3_AUTH_TOKEN>\"\n",
    "print(f\"AUTHORIZATION TOKEN: {AUTH_TOKEN}\") # Add an error and quit if this is zero or None.\n",
    "HOST = \"http://192.168.50.138:8181\"\n",
    "\n",
    "client = InfluxDBClient3(host=HOST,\n",
    "                         database=DATABASE,\n",
    "                         token=AUTH_TOKEN)\n"
   ]
  },
  {
   "cell_type": "markdown",
   "metadata": {},
   "source": [
    "## Close the InfluxDB 3 Client"
   ]
  },
  {
   "cell_type": "code",
   "execution_count": null,
   "metadata": {},
   "outputs": [],
   "source": [
    "client.close()"
   ]
  },
  {
   "cell_type": "markdown",
   "metadata": {},
   "source": [
    "## Show Tables"
   ]
  },
  {
   "cell_type": "code",
   "execution_count": null,
   "metadata": {},
   "outputs": [],
   "source": [
    "import plotly.express as px\n",
    "import plotly.io as pio\n",
    "pio.renderers.default = \"vscode\"\n",
    "\n",
    "QUERY = \"SHOW TABLES\"\n",
    "\n",
    "table = client.query(query=QUERY, language=\"sql\", mode=\"all\")\n",
    "print(table)\n",
    "print()\n",
    "table = client.query(query=QUERY, language=\"sql\", mode=\"pandas\")\n",
    "print(table)\n",
    "print()\n",
    "display(table)"
   ]
  },
  {
   "cell_type": "code",
   "execution_count": null,
   "metadata": {},
   "outputs": [],
   "source": [
    "import plotly.express as px\n",
    "import plotly.io as pio\n",
    "pio.renderers.default = \"vscode\"\n",
    "\n",
    "QUERY = \"SHOW COLUMNS FROM weather\"\n",
    "\n",
    "table = client.query(QUERY)\n",
    "print(table)\n",
    "print()\n",
    "\n",
    "table = client.query(query=QUERY, language=\"sql\", mode=\"pandas\")\n",
    "print(table)\n",
    "print()\n",
    "display(table)"
   ]
  },
  {
   "cell_type": "code",
   "execution_count": null,
   "metadata": {},
   "outputs": [],
   "source": [
    "import plotly.express as px\n",
    "import plotly.io as pio\n",
    "pio.renderers.default = \"vscode\"\n",
    "\n",
    "QUERY = \"SELECT * FROM weather WHERE time >= now() - INTERVAL '5 minutes'\"\n",
    "\n",
    "table = client.query(query=QUERY, language=\"sql\", mode=\"pandas\")\n",
    "print(table)\n",
    "print()\n",
    "display(table)\n",
    "\n",
    "fig1 = px.line(table, x=\"time\", y=\"temperature\", color=\"node\", title=\"Temperature Over Time\")\n",
    "fig1.show()"
   ]
  },
  {
   "cell_type": "code",
   "execution_count": null,
   "metadata": {},
   "outputs": [],
   "source": [
    "table = client.query(\"SHOW COLUMNS IN home\")\n",
    "print(table)"
   ]
  },
  {
   "cell_type": "code",
   "execution_count": null,
   "metadata": {},
   "outputs": [],
   "source": [
    "table = client.query(\"SELECT * from home WHERE time >= now() - INTERVAL '4 years'\")\n",
    "\n",
    "# Filter columns.\n",
    "print(table.select(['room', 'temp']))\n",
    "\n",
    "# Use PyArrow to aggregate data.\n",
    "print(table.group_by('hum').aggregate([]))"
   ]
  },
  {
   "cell_type": "code",
   "execution_count": null,
   "metadata": {},
   "outputs": [],
   "source": [
    "QUERY = \"SELECT * FROM weather WHERE time >= now() - INTERVAL '5 minutes'\"\n",
    "\n",
    "table = client.query(query=QUERY, language=\"sql\", mode=\"all\")\n",
    "\n",
    "# Filter columns.\n",
    "print(table.select(['node', 'relative_humidity']))\n",
    "\n",
    "# Use PyArrow to aggregate data.\n",
    "print(table.group_by('temperature').aggregate([]))"
   ]
  },
  {
   "cell_type": "code",
   "execution_count": null,
   "metadata": {},
   "outputs": [],
   "source": [
    "QUERY = \"SELECT * FROM weather WHERE time >= now() - INTERVAL '5 minutes'\"\n",
    "table = client.query(query=QUERY, language=\"sql\", mode=\"all\")\n",
    "print(table.to_pandas())\n",
    "print()\n",
    "df = table.sort_by(\"time\")\n",
    "print(df)"
   ]
  },
  {
   "cell_type": "markdown",
   "metadata": {},
   "source": [
    "## PyArrow Aggregation"
   ]
  },
  {
   "cell_type": "code",
   "execution_count": null,
   "metadata": {},
   "outputs": [],
   "source": [
    "QUERY = \"SELECT * FROM weather WHERE time >= now() - INTERVAL '24 hours'\"\n",
    "table = client.query(query=QUERY, language=\"sql\", mode=\"all\")\n",
    "aggregation_temperature = table.group_by(\"node\").aggregate([(\"temperature\", \"mean\"),\n",
    "                                                (\"temperature\", \"max\"),\n",
    "                                                (\"temperature\", \"min\")]).to_pandas()\n",
    "print(aggregation_temperature)\n",
    "print()\n",
    "\n",
    "aggregation_humidity = table.group_by(\"node\").aggregate([(\"relative_humidity\", \"mean\"),\n",
    "                                                (\"relative_humidity\", \"max\"),\n",
    "                                                (\"relative_humidity\", \"min\")]).to_pandas()\n",
    "print(aggregation_humidity)\n",
    "print()\n",
    "\n",
    "aggregation_pressure = table.group_by(\"node\").aggregate([(\"pressure\", \"mean\"),\n",
    "                                                (\"pressure\", \"max\"),\n",
    "                                                (\"pressure\", \"min\")]).to_pandas()\n",
    "print(aggregation_pressure)\n",
    "print()\n",
    "\n",
    "aggregation_co2 = table.group_by(\"node\").aggregate([(\"co2\", \"mean\"),\n",
    "                                                (\"co2\", \"max\"),\n",
    "                                                (\"co2\", \"min\")]).to_pandas()\n",
    "print(aggregation_co2)"
   ]
  },
  {
   "cell_type": "markdown",
   "metadata": {},
   "source": [
    "# InfluxDB 2\n",
    "## Initialize an InfluxDB 2 Client"
   ]
  },
  {
   "cell_type": "code",
   "execution_count": null,
   "metadata": {},
   "outputs": [],
   "source": [
    "import os\n",
    "import influxdb_client\n",
    "from influxdb_client import InfluxDBClient, Point, Dialect\n",
    "\n",
    "# InfluxDB Access Information\n",
    "# INFLUXDB_V2_URL = \"<>\"\n",
    "# INFLUXDB_V2_ORG = \"<>\"\n",
    "# INFLUXDB_V2_TOKEN = \"<>\"\n",
    "# TOKEN = os.getenv('INFLUXDB_V2_TOKEN')\n",
    "# # print(f\"AUTHORIZATION TOKEN: {TOKEN}\")\n",
    "ORG = \"databyBen\"\n",
    "# BUCKET = \"Environmental Metrics\"\n",
    "# URL = \"http://rpi-2.local:8086\"\n",
    "\n",
    "client_v2 = influxdb_client.InfluxDBClient.from_config_file(\"config.ini\")\n",
    "\n",
    "# client_v2 = influxdb_client.InfluxDBClient(\n",
    "#     url=URL, \n",
    "#     token=TOKEN, \n",
    "#     org=ORG\n",
    "#     )\n",
    "\n",
    "# write_api = client_v2.write_api(write_options=SYNCHRONOUS)\n",
    "query_api = client_v2.query_api()\n",
    "\n",
    "ready_status = client_v2.ready()  # Readiness of InfluxDB 2.0\n",
    "print(ready_status)"
   ]
  },
  {
   "cell_type": "markdown",
   "metadata": {},
   "source": [
    "## Close the InfluxDB 2 Client"
   ]
  },
  {
   "cell_type": "code",
   "execution_count": null,
   "metadata": {},
   "outputs": [],
   "source": [
    "client_v2.close()"
   ]
  },
  {
   "cell_type": "markdown",
   "metadata": {},
   "source": [
    "## Query InfluxDB 2"
   ]
  },
  {
   "cell_type": "code",
   "execution_count": null,
   "metadata": {},
   "outputs": [],
   "source": [
    "QUERY = \"\"\"from(bucket: \"Environmental Metrics\")\n",
    "    |> range(start: -5m)\n",
    "    |> filter(fn: (r) => r[\"_measurement\"] == \"weather\")\n",
    "    |> filter(fn: (r) => r[\"_field\"] == \"temperature\")\n",
    "    |> filter(fn: (r) => r[\"node\"] == \"sht40\")\n",
    "    |> pivot(rowKey:[\"_time\"], columnKey: [\"_field\"], valueColumn: \"_value\")\"\"\"\n",
    "\n",
    "table_v2 = query_api.query(query=QUERY, org=ORG)\n",
    "\n",
    "print(table_v2)"
   ]
  },
  {
   "cell_type": "markdown",
   "metadata": {},
   "source": [
    "## CSV Query"
   ]
  },
  {
   "cell_type": "code",
   "execution_count": null,
   "metadata": {},
   "outputs": [],
   "source": [
    "import csv\n",
    "\n",
    "QUERY = \"\"\"from(bucket: \"Environmental Metrics\")\n",
    "    |> range(start: -5m)\n",
    "    |> filter(fn: (r) => r[\"_measurement\"] == \"weather\")\n",
    "    |> filter(fn: (r) => r[\"_field\"] == \"temperature\")\n",
    "    |> filter(fn: (r) => r[\"node\"] == \"sht40\")\n",
    "    |> pivot(rowKey:[\"_time\"], columnKey: [\"_field\"], valueColumn: \"_value\")\"\"\"\n",
    "\n",
    "QUERY_BIG = \"\"\"from(bucket: \"Environmental Metrics\")\n",
    "    |> range(start: -5m)\n",
    "    |> filter(fn: (r) => r[\"_measurement\"] == \"weather\")\n",
    "    |> pivot(rowKey:[\"_time\"], columnKey: [\"_field\"], valueColumn: \"_value\")\"\"\"\n",
    "\n",
    "table_v2 = query_api.query(query=QUERY, org=ORG)\n",
    "\n",
    "print(f\"Use the number of columns and records for the for loop below. \\n {table_v2}\\n\")\n",
    "\n",
    "csv_result = query_api.query_csv(query=QUERY_BIG, dialect=Dialect(header=True, delimiter=\",\", comment_prefix=\"#\", annotations=['datatype', 'group', 'default'], date_time_format=\"RFC3339\"))\n",
    "\n",
    "print(csv_result)\n",
    "\n",
    "with open('csv/sht4x_temperature.csv', 'w', newline='') as csv_data:\n",
    "    # writer = csv.writer(csv_data)\n",
    "    for line in csv_result:\n",
    "        csv_data.write(\",\".join(line) + \"\\n\")\n",
    "\n",
    "\"\"\"\n",
    "Close client\n",
    "\"\"\"\n",
    "# client.close()\n"
   ]
  },
  {
   "cell_type": "markdown",
   "metadata": {},
   "source": [
    "## Pandas Data Frame"
   ]
  },
  {
   "cell_type": "code",
   "execution_count": null,
   "metadata": {},
   "outputs": [],
   "source": [
    "import plotly.express as px\n",
    "import plotly.io as pio\n",
    "pio.renderers.default = \"vscode\"\n",
    "\n",
    "QUERY = \"\"\"from(bucket: \"Environmental Metrics\")\n",
    "    |> range(start: -3m)\n",
    "    |> filter(fn: (r) => r[\"_measurement\"] == \"weather\")\n",
    "    |> pivot(rowKey:[\"_time\"], columnKey: [\"_field\"], valueColumn: \"_value\")\"\"\"\n",
    "\n",
    "df = query_api.query_data_frame(query=QUERY, org=ORG)\n",
    "\n",
    "print(df)\n"
   ]
  },
  {
   "cell_type": "code",
   "execution_count": null,
   "metadata": {},
   "outputs": [],
   "source": [
    "import plotly.express as px\n",
    "import plotly.io as pio\n",
    "pio.renderers.default = \"vscode\"\n",
    "\n",
    "QUERY = \"\"\"from(bucket: \"Environmental Metrics\")\n",
    "    |> range(start: -24h)\n",
    "    |> filter(fn: (r) => r[\"_measurement\"] == \"weather\")\n",
    "    |> filter(fn: (r) => r[\"_field\"] == \"temperature\")\n",
    "    |> pivot(rowKey:[\"_time\"], columnKey: [\"_field\"], valueColumn: \"_value\")\"\"\"\n",
    "\n",
    "df = query_api.query_data_frame(query=QUERY, org=ORG)\n",
    "\n",
    "print(df)\n",
    "print()\n",
    "display(df)\n",
    "\n",
    "fig1 = px.line(df, x=\"_time\", y=\"temperature\", color=\"node\", title=\"Temperature Over Time\")\n",
    "fig1.show()\n",
    "\n",
    "fig1.write_html(\"temperature_over_time.html\")"
   ]
  },
  {
   "cell_type": "markdown",
   "metadata": {},
   "source": [
    "Plots"
   ]
  },
  {
   "cell_type": "code",
   "execution_count": null,
   "metadata": {},
   "outputs": [],
   "source": [
    "import os\n",
    "import plotly.express as px\n",
    "import plotly.io as pio\n",
    "pio.renderers.default = \"vscode\"\n",
    "from plotly.subplots import make_subplots\n",
    "import plotly.graph_objects as go\n",
    "\n",
    "QUERY_TEMPERATURE = \"\"\"from(bucket: \"Environmental Metrics\")\n",
    "    |> range(start: -24h)\n",
    "    |> filter(fn: (r) => r[\"_measurement\"] == \"weather\")\n",
    "    |> filter(fn: (r) => r[\"_field\"] == \"temperature\")\n",
    "    |> pivot(rowKey:[\"_time\"], columnKey: [\"_field\"], valueColumn: \"_value\")\"\"\"\n",
    "\n",
    "QUERY_HUMIDITY = \"\"\"from(bucket: \"Environmental Metrics\")\n",
    "    |> range(start: -24h)\n",
    "    |> filter(fn: (r) => r[\"_measurement\"] == \"weather\")\n",
    "    |> filter(fn: (r) => r[\"_field\"] == \"relative_humidity\")\n",
    "    |> pivot(rowKey:[\"_time\"], columnKey: [\"_field\"], valueColumn: \"_value\")\"\"\"\n",
    "\n",
    "QUERY_PRESSURE = \"\"\"from(bucket: \"Environmental Metrics\")\n",
    "    |> range(start: -24h)\n",
    "    |> filter(fn: (r) => r[\"_measurement\"] == \"weather\")\n",
    "    |> filter(fn: (r) => r[\"_field\"] == \"pressure\")\n",
    "    |> pivot(rowKey:[\"_time\"], columnKey: [\"_field\"], valueColumn: \"_value\")\"\"\"\n",
    "\n",
    "QUERY_CO2 = \"\"\"from(bucket: \"Environmental Metrics\")\n",
    "    |> range(start: -24h)\n",
    "    |> filter(fn: (r) => r[\"_measurement\"] == \"weather\")\n",
    "    |> filter(fn: (r) => r[\"_field\"] == \"co2\")\n",
    "    |> pivot(rowKey:[\"_time\"], columnKey: [\"_field\"], valueColumn: \"_value\")\"\"\"\n",
    "\n",
    "os.makedirs(\"plots\", exist_ok=True)\n",
    "\n",
    "df1 = query_api.query_data_frame(query=QUERY_TEMPERATURE, org=ORG)\n",
    "\n",
    "fig1 = px.line(df1, x=\"_time\", y=\"temperature\", color=\"node\", title=\"Temperature Over Time\")\n",
    "fig1.show()\n",
    "fig1.write_html(\"plots/temperature_over_time.html\")\n",
    "\n",
    "\n",
    "df2 = query_api.query_data_frame(query=QUERY_HUMIDITY, org=ORG)\n",
    "\n",
    "fig2 = px.line(df2, x=\"_time\", y=\"relative_humidity\", color=\"node\", title=\"Relative Humidity Over Time\")\n",
    "fig2.show()\n",
    "fig2.write_html(\"plots/relative_humidity_over_time.html\")\n",
    "\n",
    "\n",
    "df3 = query_api.query_data_frame(query=QUERY_PRESSURE, org=ORG)\n",
    "\n",
    "fig3 = px.line(df3, x=\"_time\", y=\"pressure\", color=\"node\", title=\"Atmospheric Pressure Over Time\")\n",
    "fig3.show()\n",
    "fig3.write_html(\"plots/pressure_over_time.html\")\n",
    "\n",
    "\n",
    "df4 = query_api.query_data_frame(query=QUERY_CO2, org=ORG)\n",
    "\n",
    "fig4 = px.line(df4, x=\"_time\", y=\"co2\", color=\"node\", title=\"CO2 Over Time\")\n",
    "fig4.show()\n",
    "fig4.write_html(\"plots/co2_over_time.html\")\n",
    "\n",
    "\n",
    "\n",
    "# Create a 2x2 grid layout\n",
    "combined_fig = make_subplots(\n",
    "    rows=4, cols=1,\n",
    "    subplot_titles=(\"Temperature\", \"Humidity\", \"Pressure\", \"CO2\")\n",
    ")\n",
    "\n",
    "# Add traces from each figure to the combined figure\n",
    "# fig1, fig2, fig3, fig4 are assumed to be Plotly Express figures\n",
    "\n",
    "# Row 1, Col 1\n",
    "for trace in fig1.data:\n",
    "    combined_fig.add_trace(trace, row=1, col=1)\n",
    "\n",
    "# Row 1, Col 2\n",
    "for trace in fig2.data:\n",
    "    combined_fig.add_trace(trace, row=2, col=1)\n",
    "\n",
    "# Row 2, Col 1\n",
    "for trace in fig3.data:\n",
    "    combined_fig.add_trace(trace, row=3, col=1)\n",
    "\n",
    "# Row 2, Col 2\n",
    "for trace in fig4.data:\n",
    "    combined_fig.add_trace(trace, row=4, col=1)\n",
    "\n",
    "# Optional: update layout\n",
    "combined_fig.update_layout(\n",
    "    height=1080, width=1920, title_text=\"Environmental Metrics Dashboard\"\n",
    ")\n",
    "\n",
    "# Save to HTML\n",
    "combined_fig.write_html(\"plots/dashboard.html\")\n"
   ]
  },
  {
   "cell_type": "code",
   "execution_count": null,
   "metadata": {},
   "outputs": [],
   "source": [
    "\"\"\" June 5, 2025\n",
    "Runs on Python 3.11.2 on Raspberry Pi OS.\n",
    "Runs on Python 2.12.10 on Windows 11.\n",
    "Runs on Python 3.13.4 on Windows 11. \"\"\"\n",
    "\n",
    "import os, time\n",
    "import influxdb_client\n",
    "# from influxdb_client import InfluxDBClient, Point, WritePrecision\n",
    "# from influxdb_client.client.write_api import SYNCHRONOUS\n",
    "\n",
    "# bucket = \"<my-bucket>\"\n",
    "# token = os.environ.get(\"INFLUXDB_TOKEN\") # export INFLUXDB_TOKEN=<my-token>\n",
    "TOKEN = os.getenv('INFLUXDB_V2_TOKEN')\n",
    "# print(f\"AUTHORIZATION TOKEN: {TOKEN}\")\n",
    "ORG = \"databyBen\"\n",
    "URL = \"http://rpi-2.local:8086\"\n",
    "\n",
    "# write_client = influxdb_client.InfluxDBClient(url=URL, token=token, org=ORG)\n",
    "\n",
    "client = influxdb_client.InfluxDBClient(\n",
    "   url=URL,\n",
    "   token=TOKEN,\n",
    "   org=ORG\n",
    ")\n",
    "\n",
    "query_api = client.query_api()\n",
    "\n",
    "QUERY = \"\"\"from(bucket: \"Environmental Metrics\")\n",
    "  |> range(start: -5m)\n",
    "  |> filter(fn: (r) => r[\"_measurement\"] == \"weather\")\n",
    "  |> filter(fn: (r) => r[\"node\"] == \"scd4x\")\"\"\"\n",
    "tables = query_api.query(QUERY, org=ORG)\n",
    "\n",
    "for table in tables:\n",
    "    for record in table.records:\n",
    "        print(record)\n",
    "\n",
    "client.close()\n"
   ]
  }
 ],
 "metadata": {
  "kernelspec": {
   "display_name": ".venv",
   "language": "python",
   "name": "python3"
  },
  "language_info": {
   "codemirror_mode": {
    "name": "ipython",
    "version": 3
   },
   "file_extension": ".py",
   "mimetype": "text/x-python",
   "name": "python",
   "nbconvert_exporter": "python",
   "pygments_lexer": "ipython3",
   "version": "3.13.4"
  },
  "orig_nbformat": 4
 },
 "nbformat": 4,
 "nbformat_minor": 2
}
