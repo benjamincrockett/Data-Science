{
 "cells": [
  {
   "cell_type": "markdown",
   "metadata": {},
   "source": [
    "# Python Environments in VS Code\n",
    "\n",
    "https://code.visualstudio.com/docs/python/environments "
   ]
  },
  {
   "cell_type": "markdown",
   "metadata": {},
   "source": [
    "# Python Libraries \n",
    "\n",
    "python -m pip install --upgrade pip \\\n",
    "python -m pip install influxdb-client[ciso] \\\n",
    "python -m pip install pandas[performance] \\\n",
    "python -m pip install --upgrade matplotlib \\\n",
    "python -m pip install bokeh \\\n",
    "python -m pip install seaborn \\\n",
    "python -m pip install scipy\n"
   ]
  }
 ],
 "metadata": {
  "kernelspec": {
   "display_name": "\"Python/Mu (mu_venv-38-20230811-132728)\"",
   "language": "python",
   "name": "mu_venv-38-20230811-132728"
  },
  "language_info": {
   "codemirror_mode": {
    "name": "ipython",
    "version": 3
   },
   "file_extension": ".py",
   "mimetype": "text/x-python",
   "name": "python",
   "nbconvert_exporter": "python",
   "pygments_lexer": "ipython3",
   "version": "3.8.12"
  },
  "orig_nbformat": 4
 },
 "nbformat": 4,
 "nbformat_minor": 2
}
